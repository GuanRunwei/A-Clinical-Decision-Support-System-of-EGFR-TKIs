{
 "cells": [
  {
   "cell_type": "code",
   "execution_count": 6,
   "id": "3e34e89c",
   "metadata": {},
   "outputs": [],
   "source": [
    "import torch\n",
    "import numpy as np\n",
    "import pandas as pd\n",
    "from sklearn.model_selection import train_test_split\n",
    "from sklearn.metrics import recall_score\n",
    "from joblib import dump, load\n",
    "from sklearn.metrics import roc_curve, auc\n",
    "import matplotlib.pyplot as plt\n",
    "\n",
    "import joblib\n",
    "import random"
   ]
  },
  {
   "cell_type": "code",
   "execution_count": 7,
   "id": "88ebafc0",
   "metadata": {},
   "outputs": [],
   "source": [
    "def setup_seed(seed):\n",
    "    torch.manual_seed(seed)\n",
    "    torch.cuda.manual_seed_all(seed)\n",
    "    np.random.seed(seed)\n",
    "    random.seed(seed)\n",
    "    torch.backends.cudnn.deterministic = True"
   ]
  },
  {
   "cell_type": "code",
   "execution_count": 8,
   "id": "f69bcdec",
   "metadata": {},
   "outputs": [
    {
     "name": "stdout",
     "output_type": "stream",
     "text": [
      "True\n"
     ]
    }
   ],
   "source": [
    "device = torch.device(\"cuda:0\" if torch.cuda.is_available() else \"cpu\")\n",
    "setup_seed(777)\n",
    "print(torch.cuda.is_available())"
   ]
  },
  {
   "cell_type": "code",
   "execution_count": 9,
   "id": "fde102b3",
   "metadata": {},
   "outputs": [],
   "source": [
    "new_file = 'out_validation.xlsx'"
   ]
  },
  {
   "cell_type": "code",
   "execution_count": 10,
   "id": "f0e5a203",
   "metadata": {},
   "outputs": [],
   "source": [
    "new_dataframe1 = pd.read_excel(new_file, sheet_name=0)"
   ]
  },
  {
   "cell_type": "code",
   "execution_count": 11,
   "id": "27d52dfd",
   "metadata": {},
   "outputs": [],
   "source": [
    "def recall(y_test, y_pred):\n",
    "    zero_length = len([i for i in y_test if i == 0])\n",
    "\n",
    "    zero_true_count = 0\n",
    "    for i in range(len(y_test)):\n",
    "        if y_test[i] == 0 and y_pred[i] == 0:\n",
    "            zero_true_count += 1\n",
    "    return zero_true_count / zero_length"
   ]
  },
  {
   "cell_type": "code",
   "execution_count": 12,
   "id": "5887f9bf",
   "metadata": {},
   "outputs": [],
   "source": [
    "# out_validation\n",
    "X_second = new_dataframe1.iloc[:,range(0,15)]\n",
    "y_second = new_dataframe1.iloc[:, -1]\n",
    "X_second = np.asarray(X_second)\n",
    "X_second = torch.Tensor(X_second)\n",
    "y_second = torch.Tensor(y_second)"
   ]
  },
  {
   "cell_type": "code",
   "execution_count": 13,
   "id": "432f81ab",
   "metadata": {},
   "outputs": [],
   "source": [
    "class Feedforward_second(torch.nn.Module):\n",
    "        def __init__(self, input_size, hidden_size):\n",
    "            super(Feedforward_second, self).__init__()\n",
    "            self.input_size = input_size\n",
    "            self.hidden_size  = hidden_size\n",
    "            self.batchnorm = torch.nn.BatchNorm1d(self.hidden_size)\n",
    "            self.relu = torch.nn.ReLU()\n",
    "            self.fc1 = torch.nn.Linear(self.input_size, self.hidden_size, bias=True)\n",
    "            self.dropout1 = torch.nn.Dropout(p=0.05)\n",
    "            self.relu1 = torch.nn.ReLU()\n",
    "            self.fc2 = torch.nn.Linear(self.hidden_size, 16, bias=True)\n",
    "            self.dropout2 = torch.nn.Dropout(p=0.05)\n",
    "            self.relu2 = torch.nn.ReLU()\n",
    "            self.fc3 = torch.nn.Linear(16, 1, bias=True)\n",
    "            self.sigmoid = torch.nn.Sigmoid()\n",
    "        def forward(self, x):\n",
    "            hidden = self.fc1(x)\n",
    "            hidden = self.relu(hidden)\n",
    "            relu = self.relu1(hidden)\n",
    "            output = self.fc2(relu)\n",
    "            output = self.relu2(output)\n",
    "            output = self.fc3(output)\n",
    "            output = self.sigmoid(output)\n",
    "            return output"
   ]
  },
  {
   "cell_type": "code",
   "execution_count": 16,
   "id": "16285481",
   "metadata": {},
   "outputs": [],
   "source": [
    "model2 = torch.load(\"ann_models/model2_outtest2.pt\")\n",
    "Y_OUT = model2(X_second)\n",
    "Y_OUTs = []"
   ]
  },
  {
   "cell_type": "code",
   "execution_count": 17,
   "id": "79ddae80",
   "metadata": {},
   "outputs": [],
   "source": [
    "for item in Y_OUT:\n",
    "    Y_OUTs.append(round(float(item[0])))"
   ]
  },
  {
   "cell_type": "code",
   "execution_count": 18,
   "id": "acdf02e9",
   "metadata": {},
   "outputs": [
    {
     "name": "stdout",
     "output_type": "stream",
     "text": [
      "out validation accuracy: 0.8269230769230769\n"
     ]
    }
   ],
   "source": [
    "print(\"out validation accuracy:\", np.sum(Y_OUTs==np.array(y_second))/len(y_second))"
   ]
  },
  {
   "cell_type": "code",
   "execution_count": 19,
   "id": "00712c3c",
   "metadata": {},
   "outputs": [
    {
     "name": "stdout",
     "output_type": "stream",
     "text": [
      "out validation recall: 0.8888888888888888\n"
     ]
    }
   ],
   "source": [
    "print(\"out validation recall:\", recall(Y_OUTs, y_second))"
   ]
  },
  {
   "cell_type": "code",
   "execution_count": 20,
   "id": "7c5624d0",
   "metadata": {},
   "outputs": [
    {
     "name": "stdout",
     "output_type": "stream",
     "text": [
      "out validation auc: 0.813343328335832\n"
     ]
    }
   ],
   "source": [
    "fpr2, tpr2, thersholds2 = roc_curve(y_second, Y_OUTs, pos_label=1)\n",
    "roc_auc2 = auc(fpr2, tpr2)\n",
    "print(\"out validation auc:\", roc_auc2)"
   ]
  },
  {
   "cell_type": "code",
   "execution_count": null,
   "id": "3bec91dd",
   "metadata": {},
   "outputs": [],
   "source": []
  }
 ],
 "metadata": {
  "kernelspec": {
   "display_name": "Python 3 (ipykernel)",
   "language": "python",
   "name": "python3"
  },
  "language_info": {
   "codemirror_mode": {
    "name": "ipython",
    "version": 3
   },
   "file_extension": ".py",
   "mimetype": "text/x-python",
   "name": "python",
   "nbconvert_exporter": "python",
   "pygments_lexer": "ipython3",
   "version": "3.9.7"
  }
 },
 "nbformat": 4,
 "nbformat_minor": 5
}
