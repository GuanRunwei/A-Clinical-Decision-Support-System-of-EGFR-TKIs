{
 "cells": [
  {
   "cell_type": "code",
   "execution_count": 1,
   "metadata": {},
   "outputs": [
    {
     "name": "stderr",
     "output_type": "stream",
     "text": [
      "E:\\Anaconda\\Software\\lib\\site-packages\\sklearn\\externals\\joblib\\__init__.py:15: DeprecationWarning: sklearn.externals.joblib is deprecated in 0.21 and will be removed in 0.23. Please import this functionality directly from joblib, which can be installed with: pip install joblib. If this warning is raised when loading pickled models, you may need to re-serialize those models with scikit-learn 0.21+.\n",
      "  warnings.warn(msg, category=DeprecationWarning)\n"
     ]
    }
   ],
   "source": [
    "import torch\n",
    "import numpy as np\n",
    "import pandas as pd\n",
    "from sklearn.model_selection import train_test_split\n",
    "from sklearn import svm\n",
    "from xgboost import XGBClassifier\n",
    "from sklearn.metrics import recall_score\n",
    "from joblib import dump, load\n",
    "from sklearn.metrics import roc_curve, auc\n",
    "import matplotlib.pyplot as plt\n",
    "\n",
    "from sklearn.externals import joblib"
   ]
  },
  {
   "cell_type": "code",
   "execution_count": 2,
   "metadata": {},
   "outputs": [
    {
     "name": "stdout",
     "output_type": "stream",
     "text": [
      "True\n"
     ]
    }
   ],
   "source": [
    "device = torch.device(\"cuda:0\" if torch.cuda.is_available() else \"cpu\")\n",
    "print(torch.cuda.is_available())"
   ]
  },
  {
   "cell_type": "code",
   "execution_count": 3,
   "metadata": {},
   "outputs": [],
   "source": [
    "new_file = 'newnew.xlsx'"
   ]
  },
  {
   "cell_type": "code",
   "execution_count": 4,
   "metadata": {},
   "outputs": [],
   "source": [
    "new_dataframe = pd.read_excel(new_file, sheet_name=0)\n",
    "new_dataframe1 = pd.read_excel(new_file, sheet_name=2).iloc[:, range(16)]\n",
    "new_dataframe2 = pd.read_excel(new_file, sheet_name=2).iloc[:, range(17,31)]"
   ]
  },
  {
   "cell_type": "code",
   "execution_count": 5,
   "metadata": {},
   "outputs": [
    {
     "name": "stdout",
     "output_type": "stream",
     "text": [
      "<class 'pandas.core.frame.DataFrame'>\n",
      "RangeIndex: 158 entries, 0 to 157\n",
      "Data columns (total 12 columns):\n",
      "性别             158 non-null int64\n",
      "年龄             158 non-null int64\n",
      "吸烟             158 non-null int64\n",
      "部位             158 non-null int64\n",
      "原发灶大小          158 non-null int64\n",
      "骨转移            158 non-null int64\n",
      "脑转移            158 non-null int64\n",
      "肝转             158 non-null int64\n",
      "肺内转移           158 non-null int64\n",
      "胸膜转移           158 non-null int64\n",
      "治疗方案           158 non-null int64\n",
      "疗效差0差1好/9个月    158 non-null int64\n",
      "dtypes: int64(12)\n",
      "memory usage: 14.9 KB\n"
     ]
    }
   ],
   "source": [
    "# Dataset1\n",
    "new_dataframe.info()"
   ]
  },
  {
   "cell_type": "code",
   "execution_count": 8,
   "metadata": {},
   "outputs": [
    {
     "name": "stdout",
     "output_type": "stream",
     "text": [
      "<class 'pandas.core.frame.DataFrame'>\n",
      "RangeIndex: 158 entries, 0 to 157\n",
      "Data columns (total 16 columns):\n",
      "性别             158 non-null int64\n",
      "年龄             158 non-null int64\n",
      "吸烟             158 non-null int64\n",
      "部位             158 non-null int64\n",
      "原发灶大小          158 non-null int64\n",
      "骨转移            158 non-null int64\n",
      "脑转移            158 non-null int64\n",
      "肝转             158 non-null int64\n",
      "肺内转移           158 non-null int64\n",
      "胸膜转移           158 non-null int64\n",
      "治疗方案           158 non-null int64\n",
      "突变情况123        158 non-null int64\n",
      "TP53           158 non-null int64\n",
      "rb1            158 non-null int64\n",
      "pik3ca         158 non-null int64\n",
      "疗效差1差2好/9个月    158 non-null int64\n",
      "dtypes: int64(16)\n",
      "memory usage: 19.9 KB\n"
     ]
    }
   ],
   "source": [
    "# Dataset2\n",
    "new_dataframe1.info()"
   ]
  },
  {
   "cell_type": "code",
   "execution_count": 9,
   "metadata": {},
   "outputs": [
    {
     "name": "stdout",
     "output_type": "stream",
     "text": [
      "<class 'pandas.core.frame.DataFrame'>\n",
      "RangeIndex: 158 entries, 0 to 157\n",
      "Data columns (total 14 columns):\n",
      "性别.1             158 non-null int64\n",
      "年龄.1             158 non-null int64\n",
      "吸烟.1             158 non-null int64\n",
      "部位.1             158 non-null int64\n",
      "原发灶大小.1          158 non-null int64\n",
      "骨转移.1            158 non-null int64\n",
      "脑转移.1            158 non-null int64\n",
      "肝转.1             158 non-null int64\n",
      "肺内转移.1           158 non-null int64\n",
      "胸膜转移.1           158 non-null int64\n",
      "治疗方案.1           158 non-null int64\n",
      "突变情况123.1        158 non-null int64\n",
      "N                158 non-null int64\n",
      "疗效差1差2好/9个月.1    158 non-null int64\n",
      "dtypes: int64(14)\n",
      "memory usage: 17.4 KB\n"
     ]
    }
   ],
   "source": [
    "# Dataset3\n",
    "new_dataframe2.info()"
   ]
  },
  {
   "cell_type": "markdown",
   "metadata": {},
   "source": [
    "## Dataset for outside validation"
   ]
  },
  {
   "cell_type": "code",
   "execution_count": 10,
   "metadata": {},
   "outputs": [],
   "source": [
    "## outside validation\n",
    "test_frame1 = pd.read_excel(new_file, sheet_name=1)\n",
    "test_frame2 = pd.read_excel(new_file, sheet_name=3).iloc[:, range(16)]\n",
    "test_frame3 = pd.read_excel(new_file, sheet_name=3).iloc[:, range(17,31)]"
   ]
  },
  {
   "cell_type": "code",
   "execution_count": 11,
   "metadata": {},
   "outputs": [],
   "source": [
    "# Dataset1\n",
    "X_first = new_dataframe.iloc[:,range(0,11)]\n",
    "y_first = new_dataframe.iloc[:, -1]  # 第二个指标\n",
    "X_first = np.asarray(X_first)\n",
    "\n",
    "# Dataset2\n",
    "X_second = new_dataframe1.iloc[:,range(0,15)]\n",
    "y_second = new_dataframe1.iloc[:, -1]  # 第二个指标\n",
    "X_second = np.asarray(X_second)\n",
    "\n",
    "# Dataset3\n",
    "X_third = new_dataframe2.iloc[:,range(0,13)]\n",
    "y_third = new_dataframe2.iloc[:, -1]  # 第二个指标\n",
    "X_third = np.asarray(X_third)"
   ]
  },
  {
   "cell_type": "code",
   "execution_count": 12,
   "metadata": {},
   "outputs": [],
   "source": [
    "y_first = np.array(y_first)\n",
    "y_second = np.array(y_second)\n",
    "y_third = np.array(y_third)"
   ]
  },
  {
   "cell_type": "code",
   "execution_count": 13,
   "metadata": {},
   "outputs": [],
   "source": [
    "X_train_first, X_test_first, y_train_first, y_test_first= train_test_split(X_first, y_first, test_size=0.2, random_state=100)\n",
    "X_test_first = torch.Tensor(X_test_first)\n",
    "X_train_first = torch.Tensor(X_train_first)\n",
    "y_train_first = torch.Tensor(y_train_first)\n",
    "y_test_first = torch.Tensor(y_test_first)"
   ]
  },
  {
   "cell_type": "code",
   "execution_count": 14,
   "metadata": {},
   "outputs": [],
   "source": [
    "X_train_second, X_test_second, y_train_second, y_test_second = train_test_split(X_second, y_second, test_size=0.2, random_state=100)\n",
    "X_train_second = torch.Tensor(X_train_second)\n",
    "X_test_second = torch.Tensor(X_test_second)\n",
    "y_train_second = torch.Tensor(y_train_second)\n",
    "y_test_second = torch.Tensor(y_test_second)"
   ]
  },
  {
   "cell_type": "code",
   "execution_count": 16,
   "metadata": {},
   "outputs": [],
   "source": [
    "X_train_third, X_test_third, y_train_third, y_test_third = train_test_split(X_third, y_third, test_size=0.2, random_state=100)\n",
    "X_train_third, X_test_third, y_train_third, y_test_third = torch.Tensor(X_train_third), torch.Tensor(X_test_third),torch.Tensor(y_train_third),torch.Tensor(y_test_third)"
   ]
  },
  {
   "cell_type": "markdown",
   "metadata": {},
   "source": [
    "## ANN Training"
   ]
  },
  {
   "cell_type": "markdown",
   "metadata": {},
   "source": [
    "### Model for Dataset1"
   ]
  },
  {
   "cell_type": "code",
   "execution_count": 1498,
   "metadata": {},
   "outputs": [],
   "source": [
    "class Feedforward_first(torch.nn.Module):\n",
    "        def __init__(self, input_size, hidden_size):\n",
    "            super(Feedforward_first, self).__init__()\n",
    "            self.input_size = input_size\n",
    "            self.hidden_size  = hidden_size\n",
    "            self.batchnorm = torch.nn.BatchNorm1d(self.hidden_size)\n",
    "            self.laynorm = torch.nn.LayerNorm(self.input_size)\n",
    "            self.fc1 = torch.nn.Linear(self.input_size, self.hidden_size, bias=True)\n",
    "            self.relu = torch.nn.ReLU()\n",
    "            self.fc2 = torch.nn.Linear(self.hidden_size, 5, bias=True)\n",
    "            self.relu2 = torch.nn.ReLU()\n",
    "            self.fc3 = torch.nn.Linear(5, 1, bias=True)\n",
    "            self.sigmoid = torch.nn.Sigmoid()\n",
    "        def forward(self, x):\n",
    "            hidden = self.fc1(x)\n",
    "            batchnorm = self.batchnorm(hidden)\n",
    "            layborm = self.batchnorm(batchnorm)\n",
    "            relu = self.relu(batchnorm)\n",
    "            output = self.fc2(relu)\n",
    "            output = self.relu2(output)\n",
    "            output = self.fc3(output)\n",
    "            output = self.sigmoid(output)\n",
    "            return output"
   ]
  },
  {
   "cell_type": "code",
   "execution_count": 1499,
   "metadata": {},
   "outputs": [
    {
     "data": {
      "text/plain": [
       "11"
      ]
     },
     "execution_count": 1499,
     "metadata": {},
     "output_type": "execute_result"
    }
   ],
   "source": [
    "X_train_first.shape[1]"
   ]
  },
  {
   "cell_type": "code",
   "execution_count": 1500,
   "metadata": {},
   "outputs": [],
   "source": [
    "model1 = Feedforward_first(X_train_first.shape[1],10)\n",
    "criterion1 = torch.nn.BCELoss()\n",
    "optimizer1 = torch.optim.SGD(model1.parameters(), lr = 0.01, momentum=0.9, weight_decay= 0.001)"
   ]
  },
  {
   "cell_type": "code",
   "execution_count": 1604,
   "metadata": {},
   "outputs": [
    {
     "name": "stdout",
     "output_type": "stream",
     "text": [
      "Epoch 0: train loss: 0.5590205192565918\n",
      "Epoch 1: train loss: 0.5586019158363342\n",
      "Epoch 2: train loss: 0.55849289894104\n",
      "Epoch 3: train loss: 0.5578608512878418\n",
      "Epoch 4: train loss: 0.5575639605522156\n",
      "Epoch 5: train loss: 0.5571672916412354\n",
      "Epoch 6: train loss: 0.5567829608917236\n",
      "Epoch 7: train loss: 0.5563794374465942\n",
      "Epoch 8: train loss: 0.556013286113739\n",
      "Epoch 9: train loss: 0.5555663704872131\n",
      "Epoch 10: train loss: 0.5553125143051147\n",
      "Epoch 11: train loss: 0.5547751188278198\n",
      "Epoch 12: train loss: 0.5544097423553467\n",
      "Epoch 13: train loss: 0.5540792942047119\n",
      "Epoch 14: train loss: 0.5536219477653503\n",
      "Epoch 15: train loss: 0.5532200336456299\n",
      "Epoch 16: train loss: 0.5529664158821106\n",
      "Epoch 17: train loss: 0.5525164008140564\n",
      "Epoch 18: train loss: 0.5520655512809753\n",
      "Epoch 19: train loss: 0.5519570112228394\n",
      "Epoch 20: train loss: 0.5513371229171753\n",
      "Epoch 21: train loss: 0.5514026284217834\n",
      "Epoch 22: train loss: 0.550910472869873\n",
      "Epoch 23: train loss: 0.550265908241272\n",
      "Epoch 24: train loss: 0.5499394536018372\n",
      "Epoch 25: train loss: 0.5496484637260437\n",
      "Epoch 26: train loss: 0.5492641925811768\n",
      "Epoch 27: train loss: 0.5486128926277161\n",
      "Epoch 28: train loss: 0.5483952164649963\n",
      "Epoch 29: train loss: 0.5480167865753174\n",
      "Epoch 30: train loss: 0.547763466835022\n",
      "Epoch 31: train loss: 0.5469951033592224\n",
      "Epoch 32: train loss: 0.5467607975006104\n",
      "Epoch 33: train loss: 0.5463106632232666\n",
      "Epoch 34: train loss: 0.546029806137085\n",
      "Epoch 35: train loss: 0.5453856587409973\n",
      "Epoch 36: train loss: 0.5455795526504517\n",
      "Epoch 37: train loss: 0.5446864366531372\n",
      "Epoch 38: train loss: 0.5447852611541748\n",
      "Epoch 39: train loss: 0.5443130135536194\n",
      "Epoch 40: train loss: 0.543426513671875\n",
      "Epoch 41: train loss: 0.5440050363540649\n",
      "Epoch 42: train loss: 0.5430793762207031\n",
      "Epoch 43: train loss: 0.5429871082305908\n",
      "Epoch 44: train loss: 0.5432665944099426\n",
      "Epoch 45: train loss: 0.5415104627609253\n",
      "Epoch 46: train loss: 0.5429471135139465\n",
      "Epoch 47: train loss: 0.5416741371154785\n",
      "Epoch 48: train loss: 0.5406892895698547\n",
      "Epoch 49: train loss: 0.5413985252380371\n",
      "Epoch 50: train loss: 0.5399373173713684\n",
      "Epoch 51: train loss: 0.5398103594779968\n",
      "Epoch 52: train loss: 0.5399395227432251\n",
      "Epoch 53: train loss: 0.5385415554046631\n",
      "Epoch 54: train loss: 0.5389920473098755\n",
      "Epoch 55: train loss: 0.538070797920227\n",
      "Epoch 56: train loss: 0.5375166535377502\n",
      "Epoch 57: train loss: 0.5373629927635193\n",
      "Epoch 58: train loss: 0.536455512046814\n",
      "Epoch 59: train loss: 0.5362730026245117\n",
      "Epoch 60: train loss: 0.5358228087425232\n",
      "Epoch 61: train loss: 0.5353663563728333\n",
      "Epoch 62: train loss: 0.5350207686424255\n",
      "Epoch 63: train loss: 0.5346797108650208\n",
      "Epoch 64: train loss: 0.534232497215271\n",
      "Epoch 65: train loss: 0.5340246558189392\n",
      "Epoch 66: train loss: 0.5335938334465027\n",
      "Epoch 67: train loss: 0.5333315134048462\n",
      "Epoch 68: train loss: 0.5328165292739868\n",
      "Epoch 69: train loss: 0.5326717495918274\n",
      "Epoch 70: train loss: 0.5321176648139954\n",
      "Epoch 71: train loss: 0.5318762063980103\n",
      "Epoch 72: train loss: 0.5314476490020752\n",
      "Epoch 73: train loss: 0.5310319066047668\n",
      "Epoch 74: train loss: 0.5310401320457458\n",
      "Epoch 75: train loss: 0.5304006338119507\n",
      "Epoch 76: train loss: 0.5303657054901123\n",
      "Epoch 77: train loss: 0.5296261310577393\n",
      "Epoch 78: train loss: 0.5296155214309692\n",
      "Epoch 79: train loss: 0.5289064645767212\n",
      "Epoch 80: train loss: 0.5288798213005066\n",
      "Epoch 81: train loss: 0.5282028317451477\n",
      "Epoch 82: train loss: 0.5282602310180664\n",
      "Epoch 83: train loss: 0.5274994969367981\n",
      "Epoch 84: train loss: 0.5273208618164062\n",
      "Epoch 85: train loss: 0.5269773006439209\n",
      "Epoch 86: train loss: 0.5265169739723206\n",
      "Epoch 87: train loss: 0.5264708399772644\n",
      "Epoch 88: train loss: 0.5258440971374512\n",
      "Epoch 89: train loss: 0.5256856679916382\n",
      "Epoch 90: train loss: 0.5252133011817932\n",
      "Epoch 91: train loss: 0.5249210000038147\n",
      "Epoch 92: train loss: 0.5245431065559387\n",
      "Epoch 93: train loss: 0.5242816209793091\n",
      "Epoch 94: train loss: 0.5239903330802917\n",
      "Epoch 95: train loss: 0.5235278606414795\n",
      "Epoch 96: train loss: 0.523310661315918\n",
      "Epoch 97: train loss: 0.5228608250617981\n",
      "Epoch 98: train loss: 0.5225307941436768\n",
      "Epoch 99: train loss: 0.5223765969276428\n",
      "Epoch 100: train loss: 0.5220914483070374\n",
      "Epoch 101: train loss: 0.5213780403137207\n",
      "Epoch 102: train loss: 0.5212794542312622\n",
      "Epoch 103: train loss: 0.5208983421325684\n",
      "Epoch 104: train loss: 0.5206651091575623\n",
      "Epoch 105: train loss: 0.5200249552726746\n",
      "Epoch 106: train loss: 0.5225282311439514\n",
      "Epoch 107: train loss: 0.5209851264953613\n",
      "Epoch 108: train loss: 0.5214298367500305\n",
      "Epoch 109: train loss: 0.5187267661094666\n",
      "Epoch 110: train loss: 0.5257800221443176\n",
      "Epoch 111: train loss: 0.519717276096344\n",
      "Epoch 112: train loss: 0.5306852459907532\n",
      "Epoch 113: train loss: 0.5267211198806763\n",
      "Epoch 114: train loss: 0.5244829058647156\n",
      "Epoch 115: train loss: 0.5300217270851135\n",
      "Epoch 116: train loss: 0.5203309655189514\n",
      "Epoch 117: train loss: 0.5315479040145874\n",
      "Epoch 118: train loss: 0.525233268737793\n",
      "Epoch 119: train loss: 0.524168074131012\n",
      "Epoch 120: train loss: 0.5291113257408142\n",
      "Epoch 121: train loss: 0.5177518725395203\n",
      "Epoch 122: train loss: 0.5315988063812256\n",
      "Epoch 123: train loss: 0.5234419107437134\n",
      "Epoch 124: train loss: 0.5238824486732483\n",
      "Epoch 125: train loss: 0.5331776738166809\n",
      "Epoch 126: train loss: 0.5212528705596924\n",
      "Epoch 127: train loss: 0.5216946601867676\n",
      "Epoch 128: train loss: 0.5227426886558533\n",
      "Epoch 129: train loss: 0.5166742205619812\n",
      "Epoch 130: train loss: 0.519821286201477\n",
      "Epoch 131: train loss: 0.5140149593353271\n",
      "Epoch 132: train loss: 0.5168339014053345\n",
      "Epoch 133: train loss: 0.5136595964431763\n",
      "Epoch 134: train loss: 0.5169833302497864\n",
      "Epoch 135: train loss: 0.512945294380188\n",
      "Epoch 136: train loss: 0.514811098575592\n",
      "Epoch 137: train loss: 0.514095664024353\n",
      "Epoch 138: train loss: 0.5143634676933289\n",
      "Epoch 139: train loss: 0.512073814868927\n",
      "Epoch 140: train loss: 0.513893187046051\n",
      "Epoch 141: train loss: 0.5117390751838684\n",
      "Epoch 142: train loss: 0.5169969797134399\n",
      "Epoch 143: train loss: 0.511292040348053\n",
      "Epoch 144: train loss: 0.5173954963684082\n",
      "Epoch 145: train loss: 0.512198805809021\n",
      "Epoch 146: train loss: 0.5174357891082764\n",
      "Epoch 147: train loss: 0.5186066627502441\n",
      "Epoch 148: train loss: 0.5096694231033325\n",
      "Epoch 149: train loss: 0.5132239460945129\n",
      "Epoch 150: train loss: 0.5105436444282532\n",
      "Epoch 151: train loss: 0.5144311189651489\n",
      "Epoch 152: train loss: 0.5097835659980774\n",
      "Epoch 153: train loss: 0.5194860100746155\n",
      "Epoch 154: train loss: 0.5124813318252563\n",
      "Epoch 155: train loss: 0.5146098136901855\n",
      "Epoch 156: train loss: 0.5163430571556091\n",
      "Epoch 157: train loss: 0.5076141953468323\n",
      "Epoch 158: train loss: 0.5165174603462219\n",
      "Epoch 159: train loss: 0.508523166179657\n",
      "Epoch 160: train loss: 0.5168237686157227\n",
      "Epoch 161: train loss: 0.5180616974830627\n",
      "Epoch 162: train loss: 0.5073416233062744\n",
      "Epoch 163: train loss: 0.523413896560669\n",
      "Epoch 164: train loss: 0.5124977827072144\n",
      "Epoch 165: train loss: 0.5161406993865967\n",
      "Epoch 166: train loss: 0.5230523943901062\n",
      "Epoch 167: train loss: 0.5095783472061157\n",
      "Epoch 168: train loss: 0.5264846682548523\n",
      "Epoch 169: train loss: 0.5151458978652954\n",
      "Epoch 170: train loss: 0.5152561664581299\n",
      "Epoch 171: train loss: 0.5291914939880371\n",
      "Epoch 172: train loss: 0.516307532787323\n",
      "Epoch 173: train loss: 0.508953869342804\n",
      "Epoch 174: train loss: 0.5199965834617615\n",
      "Epoch 175: train loss: 0.5043749809265137\n",
      "Epoch 176: train loss: 0.515712320804596\n",
      "Epoch 177: train loss: 0.5131959915161133\n",
      "Epoch 178: train loss: 0.5037013292312622\n",
      "Epoch 179: train loss: 0.51292884349823\n",
      "Epoch 180: train loss: 0.5041811466217041\n",
      "Epoch 181: train loss: 0.5100228190422058\n",
      "Epoch 182: train loss: 0.5116122961044312\n",
      "Epoch 183: train loss: 0.5090858936309814\n",
      "Epoch 184: train loss: 0.502968966960907\n",
      "Epoch 185: train loss: 0.5080538392066956\n",
      "Epoch 186: train loss: 0.5020960569381714\n",
      "Epoch 187: train loss: 0.5071541666984558\n",
      "Epoch 188: train loss: 0.5072880387306213\n",
      "Epoch 189: train loss: 0.5024657845497131\n",
      "Epoch 190: train loss: 0.5106790661811829\n",
      "Epoch 191: train loss: 0.503774881362915\n",
      "Epoch 192: train loss: 0.5075362324714661\n",
      "Epoch 193: train loss: 0.5100893378257751\n",
      "Epoch 194: train loss: 0.5050360560417175\n",
      "Epoch 195: train loss: 0.5050369501113892\n",
      "Epoch 196: train loss: 0.5045539140701294\n",
      "Epoch 197: train loss: 0.5035988092422485\n",
      "Epoch 198: train loss: 0.5053728222846985\n",
      "Epoch 199: train loss: 0.5015335083007812\n"
     ]
    }
   ],
   "source": [
    "model1.train()\n",
    "epoch = 200\n",
    "loss_array = []\n",
    "for epoch in range(epoch):\n",
    "    optimizer1.zero_grad()\n",
    "    # Forward pass\n",
    "    y_pred = model1(X_train_first)\n",
    "    # Compute Loss\n",
    "    loss = criterion1(y_pred.squeeze(), y_train_first)\n",
    "    loss_array.append(float(loss.item()))\n",
    "    print('Epoch {}: train loss: {}'.format(epoch, loss.item()))\n",
    "    # Backward pass\n",
    "    loss.backward()\n",
    "    optimizer1.step()"
   ]
  },
  {
   "cell_type": "code",
   "execution_count": 1605,
   "metadata": {},
   "outputs": [
    {
     "data": {
      "text/plain": [
       "Text(0, 0.5, 'Loss Value')"
      ]
     },
     "execution_count": 1605,
     "metadata": {},
     "output_type": "execute_result"
    },
    {
     "data": {
      "image/png": "[encoded data removed]",
      "text/plain": [
       "<Figure size 432x288 with 1 Axes>"
      ]
     },
     "metadata": {
      "needs_background": "light"
     },
     "output_type": "display_data"
    }
   ],
   "source": [
    "plt.plot(loss_array)\n",
    "plt.title(\"Training Loss of ANN on Dataset1\")\n",
    "plt.xlabel(\"Epoches\")\n",
    "plt.ylabel(\"Loss Value\")"
   ]
  },
  {
   "cell_type": "code",
   "execution_count": 1606,
   "metadata": {},
   "outputs": [
    {
     "name": "stdout",
     "output_type": "stream",
     "text": [
      "[1, 1, 1, 1, 1, 1, 1, 1, 1, 1, 1, 1, 1, 1, 1, 1, 1, 1, 0, 1, 1, 1, 1, 1, 1, 1, 0, 1, 1, 1, 1, 1]\n",
      "tensor([0., 1., 1., 1., 1., 1., 1., 1., 1., 0., 1., 1., 0., 1., 0., 1., 1., 1.,\n",
      "        1., 1., 0., 1., 0., 1., 1., 1., 0., 1., 0., 1., 1., 1.])\n",
      "0.75\n"
     ]
    }
   ],
   "source": [
    "model1.eval()\n",
    "y_pred_first = model1(X_test_first)\n",
    "y_pred_first_int = []\n",
    "\n",
    "for item in y_pred_first:\n",
    "    y_pred_first_int.append(round(float(item[0])))\n",
    "print(y_pred_first_int)\n",
    "print(y_test_first)\n",
    "print(np.sum(y_pred_first_int==np.array(y_test_first))/len(y_pred_first_int))"
   ]
  },
  {
   "cell_type": "code",
   "execution_count": 1607,
   "metadata": {},
   "outputs": [
    {
     "name": "stdout",
     "output_type": "stream",
     "text": [
      "[1, 1, 1, 1, 1, 1, 1, 1, 1, 1, 1, 1, 1, 1, 1, 1, 1, 1, 1, 1, 0, 0, 1, 1, 1, 1, 1, 1, 1, 1, 1, 1, 1, 1, 1, 1, 1, 1, 1, 1, 1, 1, 0, 1, 1, 1, 1, 0, 1, 1, 1, 0, 1, 1, 1, 1, 1, 1, 1, 1, 1, 0, 1, 1, 1, 1, 1, 1, 1, 1, 1, 1, 1, 1, 1, 1, 1, 1, 1, 0, 1, 1, 1, 1, 1, 1, 1, 1, 1, 1, 1, 1, 1, 1, 1, 1, 1, 1, 1, 0, 1, 1, 0, 1, 1, 1, 1, 1, 1, 1, 1, 1, 1, 1, 1, 1, 1, 1, 1, 1, 1, 1, 1, 0, 1, 0]\n",
      "tensor([0., 0., 1., 1., 0., 1., 1., 1., 1., 1., 1., 1., 1., 1., 1., 0., 1., 1.,\n",
      "        1., 0., 0., 0., 1., 1., 1., 0., 1., 1., 1., 1., 1., 1., 1., 0., 0., 1.,\n",
      "        1., 0., 0., 1., 1., 1., 1., 1., 1., 0., 1., 0., 1., 1., 1., 1., 0., 1.,\n",
      "        1., 0., 0., 1., 0., 0., 0., 1., 1., 1., 1., 1., 0., 1., 0., 1., 1., 0.,\n",
      "        1., 1., 0., 1., 1., 1., 1., 0., 1., 1., 1., 1., 1., 1., 1., 0., 1., 1.,\n",
      "        1., 0., 1., 1., 1., 1., 0., 1., 0., 0., 1., 1., 0., 1., 1., 1., 1., 1.,\n",
      "        1., 1., 1., 0., 0., 0., 1., 0., 1., 1., 1., 1., 1., 1., 1., 1., 0., 1.])\n",
      "0.7222222222222222\n"
     ]
    }
   ],
   "source": [
    "### accuracy on training set\n",
    "y_pred = model1(X_train_first)\n",
    "y_pred_int = []\n",
    "\n",
    "for item in y_pred:\n",
    "    y_pred_int.append(round(float(item[0])))\n",
    "print(y_pred_int)\n",
    "print(y_train_first)\n",
    "print(np.sum(y_pred_int==np.array(y_train_first))/len(y_pred_int))"
   ]
  },
  {
   "cell_type": "code",
   "execution_count": 1608,
   "metadata": {},
   "outputs": [
    {
     "name": "stdout",
     "output_type": "stream",
     "text": [
      "[0, 1, 1, 1, 1, 1, 1, 1, 1, 0, 1, 1, 0, 1, 0, 1, 1, 1, 1, 1, 0, 1, 0, 1, 1, 1, 0, 1, 0, 1, 1, 1]\n",
      "[1, 1, 1, 1, 1, 1, 1, 1, 1, 1, 1, 1, 1, 1, 1, 1, 1, 1, 0, 1, 1, 1, 1, 1, 1, 1, 0, 1, 1, 1, 1, 1]\n"
     ]
    },
    {
     "name": "stderr",
     "output_type": "stream",
     "text": [
      "E:\\Anaconda\\Software\\lib\\site-packages\\ipykernel_launcher.py:20: UserWarning: color is redundantly defined by the 'color' keyword argument and the fmt string \"k--\" (-> color='k'). The keyword argument will take precedence.\n",
      "E:\\Anaconda\\Software\\lib\\site-packages\\ipykernel_launcher.py:21: UserWarning: color is redundantly defined by the 'color' keyword argument and the fmt string \"k--\" (-> color='k'). The keyword argument will take precedence.\n",
      "E:\\Anaconda\\Software\\lib\\site-packages\\ipykernel_launcher.py:22: UserWarning: color is redundantly defined by the 'color' keyword argument and the fmt string \"k--\" (-> color='k'). The keyword argument will take precedence.\n"
     ]
    },
    {
     "data": {
      "text/plain": [
       "<matplotlib.legend.Legend at 0x1eca9ab04c8>"
      ]
     },
     "execution_count": 1608,
     "metadata": {},
     "output_type": "execute_result"
    },
    {
     "data": {
      "image/png": "[encoded data removed]",
      "text/plain": [
       "<Figure size 432x288 with 1 Axes>"
      ]
     },
     "metadata": {
      "needs_background": "light"
     },
     "output_type": "display_data"
    }
   ],
   "source": [
    "### ROC and AUC for ANN1\n",
    "\n",
    "y_label = y_test_first.int().tolist()  # 非二进制需要pos_label\n",
    "y_pre = y_pred_first_int\n",
    "print(y_label)\n",
    "print(y_pre)\n",
    "fpr1, tpr1, thersholds1 = roc_curve(y_label, y_pre, pos_label=1)\n",
    "fpr2, tpr2, thersholds2 = roc_curve(y_test_second, y_pred_second_int, pos_label=1)\n",
    "fpr3, tpr3, thersholds3 = roc_curve(y_test_third, y_pred_third_int, pos_label=1)\n",
    "\n",
    "\n",
    " \n",
    "# for i, value in enumerate(thersholds):\n",
    "#     print(\"%f %f %f\" % (fpr[i], tpr[i], value))\n",
    " \n",
    "roc_auc1 = auc(fpr1, tpr1)\n",
    "roc_auc2 = auc(fpr2, tpr2)\n",
    "roc_auc3 = auc(fpr3, tpr3)\n",
    " \n",
    "plt.plot(fpr1, tpr1, 'k--', label='ROC (area = {0:.2f}) without Gene Sequence'.format(roc_auc1), lw=2, color='b')\n",
    "plt.plot(fpr2, tpr2, 'k--', label='ROC (area = {0:.2f}) with TB53,rb1 and pik3ca'.format(roc_auc2), lw=2, color='r')\n",
    "plt.plot(fpr3, tpr3, 'k--', label='ROC (area = {0:.2f}) with Number of Mutated Genes'.format(roc_auc3), lw=2, color='g')\n",
    "\n",
    " \n",
    "plt.xlim([-0.05, 1.05])  # 设置x、y轴的上下限，以免和边缘重合，更好的观察图像的整体\n",
    "plt.ylim([-0.05, 1.05])\n",
    "plt.xlabel('False Positive Rate')\n",
    "plt.ylabel('True Positive Rate')  # 可以使用中文，但需要导入一些库即字体\n",
    "plt.title('ROC Curves of ANN')\n",
    "plt.legend(loc=\"lower right\")"
   ]
  },
  {
   "cell_type": "markdown",
   "metadata": {},
   "source": [
    "### Model for Dataset2"
   ]
  },
  {
   "cell_type": "code",
   "execution_count": 1573,
   "metadata": {},
   "outputs": [],
   "source": [
    "class Feedforward_second(torch.nn.Module):\n",
    "        def __init__(self, input_size, hidden_size):\n",
    "            super(Feedforward_second, self).__init__()\n",
    "            self.input_size = input_size\n",
    "            self.hidden_size  = hidden_size\n",
    "            self.batchnorm = torch.nn.BatchNorm1d(self.input_size)\n",
    "            self.laynorm = torch.nn.LayerNorm(self.input_size)\n",
    "            self.fc1 = torch.nn.Linear(self.input_size, self.hidden_size, bias=True)\n",
    "            self.relu = torch.nn.ReLU()\n",
    "            self.fc2 = torch.nn.Linear(self.hidden_size, 5, bias=True)\n",
    "            self.fc3 = torch.nn.Linear(5, 1, bias=True)\n",
    "            self.sigmoid = torch.nn.Sigmoid()\n",
    "        def forward(self, x):\n",
    "            hidden = self.fc1(x)\n",
    "            batchnorm = self.batchnorm(hidden)\n",
    "            laynorm = self.laynorm(batchnorm)\n",
    "            relu = self.relu(laynorm)\n",
    "            output = self.fc2(relu)\n",
    "            output = self.fc3(output)\n",
    "            output = self.sigmoid(output)\n",
    "            return output"
   ]
  },
  {
   "cell_type": "code",
   "execution_count": 1574,
   "metadata": {},
   "outputs": [
    {
     "data": {
      "text/plain": [
       "tensor([[ 1., 61.,  2.,  ...,  1.,  1.,  0.],\n",
       "        [ 2., 46.,  2.,  ...,  1.,  0.,  0.],\n",
       "        [ 2., 48.,  2.,  ...,  0.,  0.,  0.],\n",
       "        ...,\n",
       "        [ 2., 43.,  2.,  ...,  1.,  0.,  0.],\n",
       "        [ 2., 68.,  2.,  ...,  1.,  0.,  0.],\n",
       "        [ 2., 55.,  2.,  ...,  0.,  0.,  1.]])"
      ]
     },
     "execution_count": 1574,
     "metadata": {},
     "output_type": "execute_result"
    }
   ],
   "source": [
    "X_train_second"
   ]
  },
  {
   "cell_type": "code",
   "execution_count": 1575,
   "metadata": {},
   "outputs": [],
   "source": [
    "model2 = Feedforward_second(X_train_second.shape[1],15)\n",
    "criterion2 = torch.nn.BCELoss()\n",
    "optimizer2 = torch.optim.Adam(model2.parameters(), lr = 0.01, weight_decay= 0.001)"
   ]
  },
  {
   "cell_type": "code",
   "execution_count": 1576,
   "metadata": {},
   "outputs": [
    {
     "name": "stdout",
     "output_type": "stream",
     "text": [
      "Epoch 0: train loss: 0.6052454710006714\n",
      "Epoch 1: train loss: 0.5969358086585999\n",
      "Epoch 2: train loss: 0.5904589891433716\n",
      "Epoch 3: train loss: 0.584665060043335\n",
      "Epoch 4: train loss: 0.579624354839325\n",
      "Epoch 5: train loss: 0.572795033454895\n",
      "Epoch 6: train loss: 0.5640113949775696\n",
      "Epoch 7: train loss: 0.5548313856124878\n",
      "Epoch 8: train loss: 0.5458484292030334\n",
      "Epoch 9: train loss: 0.5364435315132141\n",
      "Epoch 10: train loss: 0.5238454937934875\n",
      "Epoch 11: train loss: 0.5097098350524902\n",
      "Epoch 12: train loss: 0.4956801235675812\n",
      "Epoch 13: train loss: 0.48102617263793945\n",
      "Epoch 14: train loss: 0.4656539559364319\n",
      "Epoch 15: train loss: 0.4511193335056305\n",
      "Epoch 16: train loss: 0.4363560974597931\n",
      "Epoch 17: train loss: 0.42070847749710083\n",
      "Epoch 18: train loss: 0.4050501585006714\n",
      "Epoch 19: train loss: 0.3906722068786621\n",
      "Epoch 20: train loss: 0.3784583508968353\n",
      "Epoch 21: train loss: 0.368916392326355\n",
      "Epoch 22: train loss: 0.3594647943973541\n",
      "Epoch 23: train loss: 0.3484821021556854\n",
      "Epoch 24: train loss: 0.33943334221839905\n",
      "Epoch 25: train loss: 0.3335486054420471\n",
      "Epoch 26: train loss: 0.3257678747177124\n",
      "Epoch 27: train loss: 0.31837499141693115\n",
      "Epoch 28: train loss: 0.3114306330680847\n",
      "Epoch 29: train loss: 0.304557204246521\n",
      "Epoch 30: train loss: 0.29661262035369873\n",
      "Epoch 31: train loss: 0.2895645797252655\n",
      "Epoch 32: train loss: 0.2818766236305237\n",
      "Epoch 33: train loss: 0.2724047005176544\n",
      "Epoch 34: train loss: 0.26493412256240845\n",
      "Epoch 35: train loss: 0.25809168815612793\n",
      "Epoch 36: train loss: 0.25092288851737976\n",
      "Epoch 37: train loss: 0.2449619472026825\n",
      "Epoch 38: train loss: 0.2377459704875946\n",
      "Epoch 39: train loss: 0.23008576035499573\n",
      "Epoch 40: train loss: 0.22217820584774017\n",
      "Epoch 41: train loss: 0.21620342135429382\n",
      "Epoch 42: train loss: 0.2071414291858673\n",
      "Epoch 43: train loss: 0.199288472533226\n",
      "Epoch 44: train loss: 0.19183333218097687\n",
      "Epoch 45: train loss: 0.18506427109241486\n",
      "Epoch 46: train loss: 0.17897669970989227\n",
      "Epoch 47: train loss: 0.1730639785528183\n",
      "Epoch 48: train loss: 0.16774125397205353\n",
      "Epoch 49: train loss: 0.15852828323841095\n",
      "Epoch 50: train loss: 0.15396912395954132\n",
      "Epoch 51: train loss: 0.1479717493057251\n",
      "Epoch 52: train loss: 0.13901352882385254\n",
      "Epoch 53: train loss: 0.13643009960651398\n",
      "Epoch 54: train loss: 0.1269584447145462\n",
      "Epoch 55: train loss: 0.12238290905952454\n",
      "Epoch 56: train loss: 0.11412519216537476\n",
      "Epoch 57: train loss: 0.10970237106084824\n",
      "Epoch 58: train loss: 0.10409706830978394\n",
      "Epoch 59: train loss: 0.09902621805667877\n",
      "Epoch 60: train loss: 0.09457860141992569\n",
      "Epoch 61: train loss: 0.08964154869318008\n",
      "Epoch 62: train loss: 0.08635799586772919\n",
      "Epoch 63: train loss: 0.08193625509738922\n",
      "Epoch 64: train loss: 0.07843025028705597\n",
      "Epoch 65: train loss: 0.07399163395166397\n",
      "Epoch 66: train loss: 0.07113555073738098\n",
      "Epoch 67: train loss: 0.06684628874063492\n",
      "Epoch 68: train loss: 0.06305428594350815\n",
      "Epoch 69: train loss: 0.05958578735589981\n",
      "Epoch 70: train loss: 0.05602429434657097\n",
      "Epoch 71: train loss: 0.051782943308353424\n",
      "Epoch 72: train loss: 0.047671470791101456\n",
      "Epoch 73: train loss: 0.04403860867023468\n",
      "Epoch 74: train loss: 0.04078907147049904\n",
      "Epoch 75: train loss: 0.03797098621726036\n",
      "Epoch 76: train loss: 0.03513307124376297\n",
      "Epoch 77: train loss: 0.03270452469587326\n",
      "Epoch 78: train loss: 0.030219603329896927\n",
      "Epoch 79: train loss: 0.027843289077281952\n",
      "Epoch 80: train loss: 0.025676794350147247\n",
      "Epoch 81: train loss: 0.02372279018163681\n",
      "Epoch 82: train loss: 0.022016892209649086\n",
      "Epoch 83: train loss: 0.020494308322668076\n",
      "Epoch 84: train loss: 0.018974902108311653\n",
      "Epoch 85: train loss: 0.017689315602183342\n",
      "Epoch 86: train loss: 0.016454746946692467\n",
      "Epoch 87: train loss: 0.015370991080999374\n",
      "Epoch 88: train loss: 0.014367111027240753\n",
      "Epoch 89: train loss: 0.013457266613841057\n",
      "Epoch 90: train loss: 0.012592986226081848\n",
      "Epoch 91: train loss: 0.011884567327797413\n",
      "Epoch 92: train loss: 0.011192206293344498\n",
      "Epoch 93: train loss: 0.010564757511019707\n",
      "Epoch 94: train loss: 0.009898116812109947\n",
      "Epoch 95: train loss: 0.00940116960555315\n",
      "Epoch 96: train loss: 0.008856242522597313\n",
      "Epoch 97: train loss: 0.00838000513613224\n",
      "Epoch 98: train loss: 0.007945524528622627\n",
      "Epoch 99: train loss: 0.007497259881347418\n",
      "Epoch 100: train loss: 0.007162530440837145\n",
      "Epoch 101: train loss: 0.006818610243499279\n",
      "Epoch 102: train loss: 0.0065324255265295506\n",
      "Epoch 103: train loss: 0.00619979714974761\n",
      "Epoch 104: train loss: 0.0059780701994895935\n",
      "Epoch 105: train loss: 0.005765127949416637\n",
      "Epoch 106: train loss: 0.005560785066336393\n",
      "Epoch 107: train loss: 0.005371598061174154\n",
      "Epoch 108: train loss: 0.005205294582992792\n",
      "Epoch 109: train loss: 0.005071834195405245\n",
      "Epoch 110: train loss: 0.004897171165794134\n",
      "Epoch 111: train loss: 0.004784705583006144\n",
      "Epoch 112: train loss: 0.004667376633733511\n",
      "Epoch 113: train loss: 0.004537016618996859\n",
      "Epoch 114: train loss: 0.004441241733729839\n",
      "Epoch 115: train loss: 0.004352880641818047\n",
      "Epoch 116: train loss: 0.004259277600795031\n",
      "Epoch 117: train loss: 0.00416290108114481\n",
      "Epoch 118: train loss: 0.004054964054375887\n",
      "Epoch 119: train loss: 0.003963435534387827\n",
      "Epoch 120: train loss: 0.0038792123086750507\n",
      "Epoch 121: train loss: 0.003809853922575712\n",
      "Epoch 122: train loss: 0.003747938433662057\n",
      "Epoch 123: train loss: 0.003696975763887167\n",
      "Epoch 124: train loss: 0.0036320772487670183\n",
      "Epoch 125: train loss: 0.0035689377691596746\n",
      "Epoch 126: train loss: 0.0035274995025247335\n",
      "Epoch 127: train loss: 0.003470861352980137\n",
      "Epoch 128: train loss: 0.003433588659390807\n",
      "Epoch 129: train loss: 0.0033979653380811214\n",
      "Epoch 130: train loss: 0.0033710896968841553\n",
      "Epoch 131: train loss: 0.003332283813506365\n",
      "Epoch 132: train loss: 0.0032996099907904863\n",
      "Epoch 133: train loss: 0.0032811418641358614\n",
      "Epoch 134: train loss: 0.0032510515302419662\n",
      "Epoch 135: train loss: 0.0032257793936878443\n",
      "Epoch 136: train loss: 0.003209572285413742\n",
      "Epoch 137: train loss: 0.0031971586868166924\n",
      "Epoch 138: train loss: 0.0031769326888024807\n",
      "Epoch 139: train loss: 0.003176722675561905\n",
      "Epoch 140: train loss: 0.0031492789275944233\n",
      "Epoch 141: train loss: 0.003143546637147665\n",
      "Epoch 142: train loss: 0.003124909708276391\n",
      "Epoch 143: train loss: 0.003143055597320199\n",
      "Epoch 144: train loss: 0.00314461556263268\n",
      "Epoch 145: train loss: 0.003129849676042795\n",
      "Epoch 146: train loss: 0.0031336424872279167\n",
      "Epoch 147: train loss: 0.0031024152413010597\n",
      "Epoch 148: train loss: 0.0031168144196271896\n",
      "Epoch 149: train loss: 0.0030993421096354723\n",
      "Epoch 150: train loss: 0.0031011654064059258\n",
      "Epoch 151: train loss: 0.0030854507349431515\n",
      "Epoch 152: train loss: 0.003076585941016674\n",
      "Epoch 153: train loss: 0.003074432723224163\n",
      "Epoch 154: train loss: 0.0030587250366806984\n",
      "Epoch 155: train loss: 0.0030573117546737194\n",
      "Epoch 156: train loss: 0.003055980196222663\n",
      "Epoch 157: train loss: 0.003031747182831168\n",
      "Epoch 158: train loss: 0.0030324955005198717\n",
      "Epoch 159: train loss: 0.0030291108414530754\n",
      "Epoch 160: train loss: 0.00299970549531281\n",
      "Epoch 161: train loss: 0.0029882187955081463\n",
      "Epoch 162: train loss: 0.0030813824851065874\n",
      "Epoch 163: train loss: 0.0031573663000017405\n",
      "Epoch 164: train loss: 0.003080239985138178\n",
      "Epoch 165: train loss: 0.003136890707537532\n",
      "Epoch 166: train loss: 0.0034634305629879236\n",
      "Epoch 167: train loss: 0.0030878926627337933\n",
      "Epoch 168: train loss: 0.003239982295781374\n",
      "Epoch 169: train loss: 0.003200431587174535\n",
      "Epoch 170: train loss: 0.0031227373983711004\n",
      "Epoch 171: train loss: 0.0031185420230031013\n",
      "Epoch 172: train loss: 0.0030704373493790627\n",
      "Epoch 173: train loss: 0.0029332146514207125\n",
      "Epoch 174: train loss: 0.0030170355457812548\n",
      "Epoch 175: train loss: 0.0028758137486875057\n",
      "Epoch 176: train loss: 0.002940699690952897\n",
      "Epoch 177: train loss: 0.0028413222171366215\n",
      "Epoch 178: train loss: 0.0029179120901972055\n",
      "Epoch 179: train loss: 0.0027829469181597233\n",
      "Epoch 180: train loss: 0.002895570592954755\n",
      "Epoch 181: train loss: 0.0027690043207257986\n",
      "Epoch 182: train loss: 0.002795223379507661\n",
      "Epoch 183: train loss: 0.0027387402951717377\n",
      "Epoch 184: train loss: 0.0027281742077320814\n",
      "Epoch 185: train loss: 0.00273157749325037\n",
      "Epoch 186: train loss: 0.002737649017944932\n",
      "Epoch 187: train loss: 0.002689948072656989\n",
      "Epoch 188: train loss: 0.0026536895893514156\n",
      "Epoch 189: train loss: 0.0026807847898453474\n",
      "Epoch 190: train loss: 0.0026659953873604536\n",
      "Epoch 191: train loss: 0.0026901597157120705\n",
      "Epoch 192: train loss: 0.002629604423418641\n",
      "Epoch 193: train loss: 0.0026427379343658686\n",
      "Epoch 194: train loss: 0.002647355431690812\n",
      "Epoch 195: train loss: 0.0026274556294083595\n",
      "Epoch 196: train loss: 0.0026420254725962877\n",
      "Epoch 197: train loss: 0.002602399792522192\n",
      "Epoch 198: train loss: 0.0026064766570925713\n",
      "Epoch 199: train loss: 0.0026184143498539925\n"
     ]
    }
   ],
   "source": [
    "model2.train()\n",
    "epoch = 200\n",
    "loss_array = []\n",
    "for epoch in range(epoch):\n",
    "    optimizer2.zero_grad()\n",
    "    # Forward pass\n",
    "    y_pred = model2(X_train_second)\n",
    "    # Compute Loss\n",
    "    loss = criterion2(y_pred.squeeze(), y_train_second)\n",
    "    loss_array.append(float(loss.item()))\n",
    "    print('Epoch {}: train loss: {}'.format(epoch, loss.item()))\n",
    "    # Backward pass\n",
    "    loss.backward()\n",
    "    optimizer2.step()"
   ]
  },
  {
   "cell_type": "code",
   "execution_count": 1577,
   "metadata": {},
   "outputs": [],
   "source": [
    "torch.save(model2, \"ann_model.pt\")"
   ]
  },
  {
   "cell_type": "code",
   "execution_count": 1603,
   "metadata": {},
   "outputs": [
    {
     "data": {
      "text/plain": [
       "Text(0, 0.5, 'Loss Value')"
      ]
     },
     "execution_count": 1603,
     "metadata": {},
     "output_type": "execute_result"
    },
    {
     "data": {
      "image/png": "[encoded data removed]",
      "text/plain": [
       "<Figure size 432x288 with 1 Axes>"
      ]
     },
     "metadata": {
      "needs_background": "light"
     },
     "output_type": "display_data"
    }
   ],
   "source": [
    "plt.plot(loss_array)\n",
    "plt.title(\"Training Loss of ANN on Dataset2\")\n",
    "plt.xlabel(\"Epoches\")\n",
    "plt.ylabel(\"Loss Value\")"
   ]
  },
  {
   "cell_type": "code",
   "execution_count": 1579,
   "metadata": {},
   "outputs": [
    {
     "name": "stdout",
     "output_type": "stream",
     "text": [
      "[1, 1, 1, 1, 1, 1, 1, 1, 1, 1, 1, 1, 0, 1, 1, 1, 1, 1, 1, 1, 1, 1, 0, 1, 0, 1, 0, 1, 1, 1, 1, 1]\n",
      "tensor([0., 1., 1., 1., 1., 1., 1., 1., 1., 0., 1., 1., 0., 1., 0., 1., 1., 1.,\n",
      "        1., 1., 0., 1., 0., 1., 1., 1., 0., 1., 0., 1., 1., 1.])\n",
      "0.8125\n"
     ]
    }
   ],
   "source": [
    "model2.eval()\n",
    "y_pred_second = model2(X_test_second)\n",
    "y_pred_second_int = []\n",
    "\n",
    "for item in y_pred_second:\n",
    "    y_pred_second_int.append(round(float(item[0])))\n",
    "print(y_pred_second_int)\n",
    "print(y_test_second)\n",
    "print(np.sum(y_pred_second_int==np.array(y_test_second))/len(y_test_second))"
   ]
  },
  {
   "cell_type": "code",
   "execution_count": 1580,
   "metadata": {},
   "outputs": [
    {
     "name": "stdout",
     "output_type": "stream",
     "text": [
      "[0, 0, 1, 1, 0, 1, 1, 1, 1, 1, 1, 1, 1, 1, 1, 0, 1, 1, 1, 0, 0, 0, 1, 1, 1, 0, 1, 1, 1, 1, 1, 1, 1, 0, 0, 1, 1, 0, 0, 1, 1, 1, 1, 1, 1, 0, 1, 0, 1, 1, 1, 1, 0, 1, 1, 0, 0, 1, 0, 0, 0, 1, 1, 1, 1, 1, 0, 1, 0, 1, 1, 0, 1, 1, 0, 1, 1, 1, 1, 0, 1, 1, 1, 1, 1, 1, 1, 0, 1, 1, 1, 0, 1, 1, 1, 1, 0, 1, 0, 0, 1, 1, 0, 1, 1, 1, 1, 1, 1, 1, 1, 0, 0, 0, 1, 0, 1, 1, 1, 1, 1, 1, 1, 1, 0, 1]\n",
      "tensor([0., 0., 1., 1., 0., 1., 1., 1., 1., 1., 1., 1., 1., 1., 1., 0., 1., 1.,\n",
      "        1., 0., 0., 0., 1., 1., 1., 0., 1., 1., 1., 1., 1., 1., 1., 0., 0., 1.,\n",
      "        1., 0., 0., 1., 1., 1., 1., 1., 1., 0., 1., 0., 1., 1., 1., 1., 0., 1.,\n",
      "        1., 0., 0., 1., 0., 0., 0., 1., 1., 1., 1., 1., 0., 1., 0., 1., 1., 0.,\n",
      "        1., 1., 0., 1., 1., 1., 1., 0., 1., 1., 1., 1., 1., 1., 1., 0., 1., 1.,\n",
      "        1., 0., 1., 1., 1., 1., 0., 1., 0., 0., 1., 1., 0., 1., 1., 1., 1., 1.,\n",
      "        1., 1., 1., 0., 0., 0., 1., 0., 1., 1., 1., 1., 1., 1., 1., 1., 0., 1.])\n",
      "1.0\n"
     ]
    }
   ],
   "source": [
    "### accuracy on training set\n",
    "y_pred = model2(X_train_second)\n",
    "y_pred_int = []\n",
    "\n",
    "for item in y_pred:\n",
    "    y_pred_int.append(round(float(item[0])))\n",
    "print(y_pred_int)\n",
    "print(y_train_second)\n",
    "print(np.sum(y_pred_int==np.array(y_train_second))/len(y_pred_int))"
   ]
  },
  {
   "cell_type": "markdown",
   "metadata": {},
   "source": [
    "### Model for Dataset3"
   ]
  },
  {
   "cell_type": "code",
   "execution_count": 1611,
   "metadata": {},
   "outputs": [],
   "source": [
    "class Feedforward_third(torch.nn.Module):\n",
    "        def __init__(self, input_size, hidden_size):\n",
    "            super(Feedforward_third, self).__init__()\n",
    "            self.input_size = input_size\n",
    "            self.hidden_size  = hidden_size\n",
    "            self.batchnorm = torch.nn.BatchNorm1d(self.hidden_size)\n",
    "            self.laynorm = torch.nn.LayerNorm(self.input_size)\n",
    "            self.fc1 = torch.nn.Linear(self.input_size, self.hidden_size, bias=True)\n",
    "            self.relu = torch.nn.ReLU()\n",
    "            self.fc2 = torch.nn.Linear(self.hidden_size, 5, bias=True)\n",
    "            self.relu2 = torch.nn.ReLU()\n",
    "            self.fc3 = torch.nn.Linear(5, 1, bias=True)\n",
    "            self.sigmoid = torch.nn.Sigmoid()\n",
    "        def forward(self, x):\n",
    "            hidden = self.fc1(x)\n",
    "            batchnorm = self.batchnorm(hidden)\n",
    "            laynorm = self.laynorm(batchnorm)\n",
    "            relu = self.relu(laynorm)\n",
    "            output = self.fc2(relu)\n",
    "            self.relu2 = torch.nn.ReLU()\n",
    "            output = self.fc3(output)\n",
    "            output = self.sigmoid(output)\n",
    "            return output"
   ]
  },
  {
   "cell_type": "code",
   "execution_count": 1612,
   "metadata": {},
   "outputs": [],
   "source": [
    "model3 = Feedforward_third(X_train_third.shape[1],13)\n",
    "criterion3 = torch.nn.BCELoss()\n",
    "optimizer3 = torch.optim.Adam(model3.parameters(), lr = 0.01, weight_decay= 0.001)"
   ]
  },
  {
   "cell_type": "code",
   "execution_count": 1613,
   "metadata": {},
   "outputs": [
    {
     "name": "stdout",
     "output_type": "stream",
     "text": [
      "Epoch 0: train loss: 0.7449527382850647\n",
      "Epoch 1: train loss: 0.717972457408905\n",
      "Epoch 2: train loss: 0.6911874413490295\n",
      "Epoch 3: train loss: 0.665411114692688\n",
      "Epoch 4: train loss: 0.6416490077972412\n",
      "Epoch 5: train loss: 0.6199914813041687\n",
      "Epoch 6: train loss: 0.5994950532913208\n",
      "Epoch 7: train loss: 0.581000030040741\n",
      "Epoch 8: train loss: 0.5656672120094299\n",
      "Epoch 9: train loss: 0.5535496473312378\n",
      "Epoch 10: train loss: 0.5445176362991333\n",
      "Epoch 11: train loss: 0.5373896956443787\n",
      "Epoch 12: train loss: 0.5313980579376221\n",
      "Epoch 13: train loss: 0.5265540480613708\n",
      "Epoch 14: train loss: 0.5214558839797974\n",
      "Epoch 15: train loss: 0.5146776437759399\n",
      "Epoch 16: train loss: 0.5056299567222595\n",
      "Epoch 17: train loss: 0.4951423406600952\n",
      "Epoch 18: train loss: 0.4828510582447052\n",
      "Epoch 19: train loss: 0.47148430347442627\n",
      "Epoch 20: train loss: 0.46113377809524536\n",
      "Epoch 21: train loss: 0.4507763683795929\n",
      "Epoch 22: train loss: 0.4409792125225067\n",
      "Epoch 23: train loss: 0.4321078658103943\n",
      "Epoch 24: train loss: 0.42363131046295166\n",
      "Epoch 25: train loss: 0.41503894329071045\n",
      "Epoch 26: train loss: 0.4069404602050781\n",
      "Epoch 27: train loss: 0.39927226305007935\n",
      "Epoch 28: train loss: 0.391050785779953\n",
      "Epoch 29: train loss: 0.3826886713504791\n",
      "Epoch 30: train loss: 0.3748229742050171\n",
      "Epoch 31: train loss: 0.3662555515766144\n",
      "Epoch 32: train loss: 0.3579075336456299\n",
      "Epoch 33: train loss: 0.34931206703186035\n",
      "Epoch 34: train loss: 0.340321809053421\n",
      "Epoch 35: train loss: 0.33164268732070923\n",
      "Epoch 36: train loss: 0.32432985305786133\n",
      "Epoch 37: train loss: 0.3166893422603607\n",
      "Epoch 38: train loss: 0.3096335232257843\n",
      "Epoch 39: train loss: 0.3033097982406616\n",
      "Epoch 40: train loss: 0.2972005307674408\n",
      "Epoch 41: train loss: 0.2920237183570862\n",
      "Epoch 42: train loss: 0.28712186217308044\n",
      "Epoch 43: train loss: 0.2826327383518219\n",
      "Epoch 44: train loss: 0.27756237983703613\n",
      "Epoch 45: train loss: 0.2731952965259552\n",
      "Epoch 46: train loss: 0.2689567804336548\n",
      "Epoch 47: train loss: 0.26277127861976624\n",
      "Epoch 48: train loss: 0.25737234950065613\n",
      "Epoch 49: train loss: 0.2513335347175598\n",
      "Epoch 50: train loss: 0.24681732058525085\n",
      "Epoch 51: train loss: 0.24150577187538147\n",
      "Epoch 52: train loss: 0.23562508821487427\n",
      "Epoch 53: train loss: 0.2301647812128067\n",
      "Epoch 54: train loss: 0.22509264945983887\n",
      "Epoch 55: train loss: 0.21931949257850647\n",
      "Epoch 56: train loss: 0.21373581886291504\n",
      "Epoch 57: train loss: 0.20955143868923187\n",
      "Epoch 58: train loss: 0.20397253334522247\n",
      "Epoch 59: train loss: 0.19925785064697266\n",
      "Epoch 60: train loss: 0.19394251704216003\n",
      "Epoch 61: train loss: 0.18940232694149017\n",
      "Epoch 62: train loss: 0.18503163754940033\n",
      "Epoch 63: train loss: 0.18002866208553314\n",
      "Epoch 64: train loss: 0.17488576471805573\n",
      "Epoch 65: train loss: 0.17105229198932648\n",
      "Epoch 66: train loss: 0.16553591191768646\n",
      "Epoch 67: train loss: 0.16138142347335815\n",
      "Epoch 68: train loss: 0.1563856303691864\n",
      "Epoch 69: train loss: 0.1516110599040985\n",
      "Epoch 70: train loss: 0.1477835774421692\n",
      "Epoch 71: train loss: 0.14259018003940582\n",
      "Epoch 72: train loss: 0.13912305235862732\n",
      "Epoch 73: train loss: 0.1350814402103424\n",
      "Epoch 74: train loss: 0.12882369756698608\n",
      "Epoch 75: train loss: 0.12629513442516327\n",
      "Epoch 76: train loss: 0.1199156790971756\n",
      "Epoch 77: train loss: 0.1181848794221878\n",
      "Epoch 78: train loss: 0.11417809873819351\n",
      "Epoch 79: train loss: 0.10964478552341461\n",
      "Epoch 80: train loss: 0.10693181306123734\n",
      "Epoch 81: train loss: 0.10265767574310303\n",
      "Epoch 82: train loss: 0.10060574114322662\n",
      "Epoch 83: train loss: 0.09585390239953995\n",
      "Epoch 84: train loss: 0.09481451660394669\n",
      "Epoch 85: train loss: 0.0905645489692688\n",
      "Epoch 86: train loss: 0.0892648994922638\n",
      "Epoch 87: train loss: 0.08575263619422913\n",
      "Epoch 88: train loss: 0.08294343203306198\n",
      "Epoch 89: train loss: 0.0813220664858818\n",
      "Epoch 90: train loss: 0.07785503566265106\n",
      "Epoch 91: train loss: 0.07605229318141937\n",
      "Epoch 92: train loss: 0.07349050790071487\n",
      "Epoch 93: train loss: 0.07121305167675018\n",
      "Epoch 94: train loss: 0.06874813139438629\n",
      "Epoch 95: train loss: 0.06714093685150146\n",
      "Epoch 96: train loss: 0.06461171805858612\n",
      "Epoch 97: train loss: 0.0625307485461235\n",
      "Epoch 98: train loss: 0.061237312853336334\n",
      "Epoch 99: train loss: 0.058668218553066254\n",
      "Epoch 100: train loss: 0.057166531682014465\n",
      "Epoch 101: train loss: 0.055316392332315445\n",
      "Epoch 102: train loss: 0.05336199700832367\n",
      "Epoch 103: train loss: 0.05184140428900719\n",
      "Epoch 104: train loss: 0.049787502735853195\n",
      "Epoch 105: train loss: 0.04808996990323067\n",
      "Epoch 106: train loss: 0.04672490805387497\n",
      "Epoch 107: train loss: 0.04459569603204727\n",
      "Epoch 108: train loss: 0.04300931096076965\n",
      "Epoch 109: train loss: 0.04207373037934303\n",
      "Epoch 110: train loss: 0.04056253656744957\n",
      "Epoch 111: train loss: 0.03884344547986984\n",
      "Epoch 112: train loss: 0.03713357076048851\n",
      "Epoch 113: train loss: 0.035995371639728546\n",
      "Epoch 114: train loss: 0.03544396907091141\n",
      "Epoch 115: train loss: 0.03436385840177536\n",
      "Epoch 116: train loss: 0.03259531781077385\n",
      "Epoch 117: train loss: 0.031062142923474312\n",
      "Epoch 118: train loss: 0.03037857636809349\n",
      "Epoch 119: train loss: 0.030567597597837448\n",
      "Epoch 120: train loss: 0.029555130749940872\n",
      "Epoch 121: train loss: 0.027290351688861847\n",
      "Epoch 122: train loss: 0.026530077680945396\n",
      "Epoch 123: train loss: 0.026567837223410606\n",
      "Epoch 124: train loss: 0.024044036865234375\n",
      "Epoch 125: train loss: 0.0235754381865263\n",
      "Epoch 126: train loss: 0.023567525669932365\n",
      "Epoch 127: train loss: 0.02172396332025528\n",
      "Epoch 128: train loss: 0.021219631657004356\n",
      "Epoch 129: train loss: 0.02026052214205265\n",
      "Epoch 130: train loss: 0.019414860755205154\n",
      "Epoch 131: train loss: 0.018849017098546028\n",
      "Epoch 132: train loss: 0.017972737550735474\n",
      "Epoch 133: train loss: 0.017298642545938492\n",
      "Epoch 134: train loss: 0.01709897257387638\n",
      "Epoch 135: train loss: 0.016229381784796715\n",
      "Epoch 136: train loss: 0.015376945026218891\n",
      "Epoch 137: train loss: 0.015010698698461056\n",
      "Epoch 138: train loss: 0.014626932330429554\n",
      "Epoch 139: train loss: 0.01400137972086668\n",
      "Epoch 140: train loss: 0.01346670463681221\n",
      "Epoch 141: train loss: 0.013172730803489685\n",
      "Epoch 142: train loss: 0.012672406621277332\n",
      "Epoch 143: train loss: 0.012325814925134182\n",
      "Epoch 144: train loss: 0.011952350847423077\n",
      "Epoch 145: train loss: 0.011488349176943302\n",
      "Epoch 146: train loss: 0.011197001673281193\n",
      "Epoch 147: train loss: 0.010815505869686604\n",
      "Epoch 148: train loss: 0.010494096204638481\n",
      "Epoch 149: train loss: 0.010101011022925377\n"
     ]
    }
   ],
   "source": [
    "model3.train()\n",
    "epoch = 150\n",
    "loss_array = []\n",
    "for epoch in range(epoch):\n",
    "    optimizer3.zero_grad()\n",
    "    # Forward pass\n",
    "    y_pred = model3(X_train_third)\n",
    "    # Compute Loss\n",
    "    loss = criterion3(y_pred.squeeze(), y_train_third)\n",
    "    loss_array.append(float(loss.item()))\n",
    "    print('Epoch {}: train loss: {}'.format(epoch, loss.item()))\n",
    "    # Backward pass\n",
    "    loss.backward()\n",
    "    optimizer3.step()"
   ]
  },
  {
   "cell_type": "code",
   "execution_count": 1614,
   "metadata": {},
   "outputs": [
    {
     "data": {
      "text/plain": [
       "Text(0, 0.5, 'Loss Value')"
      ]
     },
     "execution_count": 1614,
     "metadata": {},
     "output_type": "execute_result"
    },
    {
     "data": {
      "image/png": "[encoded data removed]",
      "text/plain": [
       "<Figure size 432x288 with 1 Axes>"
      ]
     },
     "metadata": {
      "needs_background": "light"
     },
     "output_type": "display_data"
    }
   ],
   "source": [
    "plt.plot(loss_array)\n",
    "plt.title(\"Training Loss of ANN on Dataset3\")\n",
    "plt.xlabel(\"Epoches\")\n",
    "plt.ylabel(\"Loss Value\")"
   ]
  },
  {
   "cell_type": "code",
   "execution_count": 1593,
   "metadata": {},
   "outputs": [
    {
     "name": "stdout",
     "output_type": "stream",
     "text": [
      "32\n",
      "32\n",
      "0.78125\n"
     ]
    }
   ],
   "source": [
    "model3.eval()\n",
    "y_pred = model3(X_test_third)\n",
    "y_pred_third_int = []\n",
    "\n",
    "for item in y_pred:\n",
    "    y_pred_third_int.append(round(float(item[0])))\n",
    "    \n",
    "print(len(y_pred_third_int))\n",
    "print(len(y_test_third))\n",
    "y_test_third = np.array(y_test_third)\n",
    "print(np.sum(y_pred_third_int==y_test_third)/len(y_pred_third_int))"
   ]
  },
  {
   "cell_type": "code",
   "execution_count": 1594,
   "metadata": {},
   "outputs": [
    {
     "name": "stdout",
     "output_type": "stream",
     "text": [
      "[0, 0, 1, 1, 0, 1, 1, 1, 1, 1, 1, 1, 1, 1, 1, 0, 1, 1, 1, 0, 0, 0, 1, 1, 1, 0, 1, 1, 1, 1, 1, 1, 1, 0, 0, 1, 1, 0, 0, 1, 1, 1, 1, 1, 1, 0, 1, 0, 1, 1, 1, 1, 0, 1, 1, 0, 0, 1, 0, 0, 0, 1, 1, 1, 1, 1, 0, 1, 0, 1, 1, 0, 1, 1, 0, 1, 1, 1, 1, 0, 1, 1, 1, 1, 1, 1, 1, 0, 1, 1, 1, 0, 1, 1, 1, 1, 0, 1, 0, 0, 1, 1, 0, 1, 1, 1, 1, 1, 1, 1, 1, 0, 0, 0, 1, 0, 1, 1, 1, 1, 1, 1, 1, 1, 0, 1]\n",
      "tensor([0., 0., 1., 1., 0., 1., 1., 1., 1., 1., 1., 1., 1., 1., 1., 0., 1., 1.,\n",
      "        1., 0., 0., 0., 1., 1., 1., 0., 1., 1., 1., 1., 1., 1., 1., 0., 0., 1.,\n",
      "        1., 0., 0., 1., 1., 1., 1., 1., 1., 0., 1., 0., 1., 1., 1., 1., 0., 1.,\n",
      "        1., 0., 0., 1., 0., 0., 0., 1., 1., 1., 1., 1., 0., 1., 0., 1., 1., 0.,\n",
      "        1., 1., 0., 1., 1., 1., 1., 0., 1., 1., 1., 1., 1., 1., 1., 0., 1., 1.,\n",
      "        1., 0., 1., 1., 1., 1., 0., 1., 0., 0., 1., 1., 0., 1., 1., 1., 1., 1.,\n",
      "        1., 1., 1., 0., 0., 0., 1., 0., 1., 1., 1., 1., 1., 1., 1., 1., 0., 1.])\n",
      "1.0\n"
     ]
    }
   ],
   "source": [
    "### accuracy on training set\n",
    "y_pred = model3(X_train_third)\n",
    "y_pred_int = []\n",
    "\n",
    "for item in y_pred:\n",
    "    y_pred_int.append(round(float(item[0])))\n",
    "print(y_pred_int)\n",
    "print(y_train_third)\n",
    "print(np.sum(y_pred_int==np.array(y_train_third))/len(y_pred_int))"
   ]
  }
 ],
 "metadata": {
  "kernelspec": {
   "display_name": "Python 3",
   "language": "python",
   "name": "python3"
  },
  "language_info": {
   "codemirror_mode": {
    "name": "ipython",
    "version": 3
   },
   "file_extension": ".py",
   "mimetype": "text/x-python",
   "name": "python",
   "nbconvert_exporter": "python",
   "pygments_lexer": "ipython3",
   "version": "3.7.4"
  }
 },
 "nbformat": 4,
 "nbformat_minor": 2
}
